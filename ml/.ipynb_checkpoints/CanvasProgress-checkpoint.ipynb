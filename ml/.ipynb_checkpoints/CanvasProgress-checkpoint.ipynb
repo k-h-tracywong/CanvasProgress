{
 "cells": [
  {
   "cell_type": "code",
   "execution_count": 47,
   "metadata": {
    "collapsed": false
   },
   "outputs": [],
   "source": [
    "import numpy as np\n",
    "import pandas as pd\n",
    "import os\n",
    "\n",
    "from surprise import SVD, Dataset, dataset, Reader\n",
    "from collections import defaultdict"
   ]
  },
  {
   "cell_type": "code",
   "execution_count": 35,
   "metadata": {
    "collapsed": false
   },
   "outputs": [
    {
     "name": "stdout",
     "output_type": "stream",
     "text": [
      "    course_id_DI  userid_DI  completed_%\n",
      "24     832960781  832391307        0.067\n",
      "26     832960027  832349611        0.158\n",
      "27     832960781  832371449        0.027\n",
      "29     832960781  832349297        0.013\n",
      "30     832960781  832392222        0.013\n"
     ]
    },
    {
     "name": "stderr",
     "output_type": "stream",
     "text": [
      "/Users/jason/anaconda/lib/python3.5/site-packages/IPython/core/interactiveshell.py:2902: DtypeWarning: Columns (11,12,13,14) have mixed types. Specify dtype option on import or set low_memory=False.\n",
      "  interactivity=interactivity, compiler=compiler, result=result)\n"
     ]
    }
   ],
   "source": [
    "df = pd.read_csv('data/CNPC_1401-1509_DI_v1_1_2016-03-01.csv')\n",
    "df = df.drop('registered', 1)\n",
    "df = df.drop('viewed', 1)\n",
    "df = df.drop('explored', 1)\n",
    "df = df.drop('grade', 1)\n",
    "df = df.drop('grade_reqs', 1)\n",
    "df = df.drop('course_reqs', 1)\n",
    "df = df.drop('final_cc_cname_DI', 1)\n",
    "df = df.drop('primary_reason', 1)\n",
    "df = df.drop('learner_type', 1)\n",
    "df = df.drop('expected_hours_week', 1)\n",
    "df = df.drop('LoE_DI', 1)\n",
    "df = df.drop('age_DI', 1)\n",
    "df = df.drop('gender', 1)\n",
    "df = df.drop('start_time_DI', 1)\n",
    "df = df.drop('course_start', 1)\n",
    "df = df.drop('course_end', 1)\n",
    "df = df.drop('last_event_DI', 1)\n",
    "df = df.drop('nevents', 1)\n",
    "df = df.drop('ndays_act', 1)\n",
    "df = df.drop('ncontent', 1)\n",
    "df = df.drop('nforum_posts', 1)\n",
    "df = df.drop('course_length', 1)\n",
    "df = df.drop('discipline', 1)\n",
    "df = df[pd.notnull(df['completed_%'])]\n",
    "# df.index = pd.to_datetime(df.course_end)\n",
    "# df['year'] = df.index.year\n",
    "# df['quarter'] = df.index.quarter\n",
    "# df['course_end'] = pd.to_datetime(df['course_end']).dt.to_period('Q')\n",
    "\n",
    "# df['year'] = df['course_end'].dt.year\n",
    "# df['quarter'] = df['course_end'].dt.quarter\n",
    "\n",
    "# df['timestamp'] = df['course_end']\n",
    "# df['timestamp'] = pd.to_datetime(df['course_end'].str.replace(' ', '')) + pd.offsets.QuarterEnd(0)\n",
    "print(df.head())"
   ]
  },
  {
   "cell_type": "code",
   "execution_count": 36,
   "metadata": {
    "collapsed": true
   },
   "outputs": [],
   "source": [
    "def get_top_n(predictions, n=10):\n",
    "\n",
    "    top_n = defaultdict(list)\n",
    "    for uid, iid, true_r, est, _ in predictions:\n",
    "        top_n[uid].append((iid, est))\n",
    "\n",
    "    for uid, user_ratings in top_n.items():\n",
    "        user_ratings.sort(key=lambda x: x[1], reverse=True)\n",
    "        top_n[uid] = user_ratings[:n]\n",
    "\n",
    "    return top_n"
   ]
  },
  {
   "cell_type": "code",
   "execution_count": 43,
   "metadata": {
    "collapsed": false
   },
   "outputs": [],
   "source": [
    "class MyDataset(dataset.DatasetAutoFolds):\n",
    "\n",
    "    def __init__(self, df, reader):\n",
    "\n",
    "        self.raw_ratings = [(uid, iid, r, None) for (uid, iid, r) in\n",
    "                            zip(df['userid_DI'], df['course_id_DI'], df['completed_%'])]\n",
    "        self.reader=reader\n",
    "        \n",
    "reader = Reader(line_format='user item rating', rating_scale=(0, 1))\n",
    "\n",
    "data = MyDataset(df, reader)\n",
    "\n",
    "algo = SVD()\n",
    "\n",
    "# cross_validate(algo, data, measures=['RMSE', 'MAE'], cv=5, verbose=True)\n",
    "\n",
    "trainset = data.build_full_trainset()\n",
    "\n",
    "algo.fit(trainset)\n",
    "# test = [(832960083, 832380973, None)]\n",
    "testset = trainset.build_testset()\n",
    "predictions = algo.test(testset)\n",
    "\n",
    "top_n = get_top_n(predictions, n=10)\n",
    "\n",
    "# Print the recommended items for each user\n",
    "# for uid, user_ratings in top_n.items():\n",
    "#     print(uid, [iid for (iid, _) in user_ratings])"
   ]
  },
  {
   "cell_type": "code",
   "execution_count": 48,
   "metadata": {
    "collapsed": false
   },
   "outputs": [
    {
     "ename": "TypeError",
     "evalue": "dump() got an unexpected keyword argument 'top_n'",
     "output_type": "error",
     "traceback": [
      "\u001b[0;31m---------------------------------------------------------------------------\u001b[0m",
      "\u001b[0;31mTypeError\u001b[0m                                 Traceback (most recent call last)",
      "\u001b[0;32m<ipython-input-48-2f1f910cfb7c>\u001b[0m in \u001b[0;36m<module>\u001b[0;34m()\u001b[0m\n\u001b[1;32m      1\u001b[0m \u001b[0mfile_name\u001b[0m \u001b[0;34m=\u001b[0m \u001b[0mos\u001b[0m\u001b[0;34m.\u001b[0m\u001b[0mpath\u001b[0m\u001b[0;34m.\u001b[0m\u001b[0mexpanduser\u001b[0m\u001b[0;34m(\u001b[0m\u001b[0;34m'~/top10'\u001b[0m\u001b[0;34m)\u001b[0m\u001b[0;34m\u001b[0m\u001b[0m\n\u001b[0;32m----> 2\u001b[0;31m \u001b[0mdump\u001b[0m\u001b[0;34m.\u001b[0m\u001b[0mdump\u001b[0m\u001b[0;34m(\u001b[0m\u001b[0mfile_name\u001b[0m\u001b[0;34m,\u001b[0m \u001b[0mtop_n\u001b[0m\u001b[0;34m=\u001b[0m\u001b[0mtop_n\u001b[0m\u001b[0;34m)\u001b[0m\u001b[0;34m\u001b[0m\u001b[0m\n\u001b[0m",
      "\u001b[0;31mTypeError\u001b[0m: dump() got an unexpected keyword argument 'top_n'"
     ]
    }
   ],
   "source": [
    "binary_file = open('my_pickled_mary.bin',mode='wb')\n",
    "my_pickled_mary = pickle.dump(mary, binary_file)\n",
    "binary_file.close()"
   ]
  },
  {
   "cell_type": "code",
   "execution_count": null,
   "metadata": {
    "collapsed": true
   },
   "outputs": [],
   "source": []
  }
 ],
 "metadata": {
  "kernelspec": {
   "display_name": "Python 3",
   "language": "python",
   "name": "python3"
  },
  "language_info": {
   "codemirror_mode": {
    "name": "ipython",
    "version": 3
   },
   "file_extension": ".py",
   "mimetype": "text/x-python",
   "name": "python",
   "nbconvert_exporter": "python",
   "pygments_lexer": "ipython3",
   "version": "3.5.3"
  }
 },
 "nbformat": 4,
 "nbformat_minor": 0
}
