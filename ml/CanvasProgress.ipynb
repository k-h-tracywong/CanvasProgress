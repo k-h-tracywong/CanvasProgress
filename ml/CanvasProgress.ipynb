{
 "cells": [
  {
   "cell_type": "code",
   "execution_count": 9,
   "metadata": {},
   "outputs": [],
   "source": [
    "import numpy as np\n",
    "import pandas as pd\n",
    "import os\n",
    "import pickle\n",
    "\n",
    "from surprise import SVD, Dataset, dataset, Reader\n",
    "from surprise.model_selection import cross_validate, GridSearchCV\n",
    "from collections import defaultdict"
   ]
  },
  {
   "cell_type": "code",
   "execution_count": 2,
   "metadata": {},
   "outputs": [
    {
     "name": "stderr",
     "output_type": "stream",
     "text": [
      "C:\\Users\\jason\\AppData\\Local\\Programs\\Python\\Python36\\lib\\site-packages\\IPython\\core\\interactiveshell.py:2728: DtypeWarning: Columns (11,12,13,14) have mixed types. Specify dtype option on import or set low_memory=False.\n",
      "  interactivity=interactivity, compiler=compiler, result=result)\n"
     ]
    }
   ],
   "source": [
    "df = pd.read_csv('data/CNPC_1401-1509_DI_v1_1_2016-03-01.csv')\n",
    "df = df.drop('registered', 1)\n",
    "df = df.drop('viewed', 1)\n",
    "df = df.drop('explored', 1)\n",
    "df = df.drop('grade', 1)\n",
    "df = df.drop('grade_reqs', 1)\n",
    "df = df.drop('course_reqs', 1)\n",
    "df = df.drop('final_cc_cname_DI', 1)\n",
    "df = df.drop('primary_reason', 1)\n",
    "df = df.drop('learner_type', 1)\n",
    "df = df.drop('expected_hours_week', 1)\n",
    "df = df.drop('LoE_DI', 1)\n",
    "df = df.drop('age_DI', 1)\n",
    "df = df.drop('gender', 1)\n",
    "df = df.drop('start_time_DI', 1)\n",
    "df = df.drop('course_start', 1)\n",
    "df = df.drop('course_end', 1)\n",
    "df = df.drop('last_event_DI', 1)\n",
    "df = df.drop('nevents', 1)\n",
    "df = df.drop('ndays_act', 1)\n",
    "df = df.drop('ncontent', 1)\n",
    "df = df.drop('nforum_posts', 1)\n",
    "df = df.drop('course_length', 1)\n",
    "df = df.drop('discipline', 1)\n",
    "# df = df[pd.notnull(df['completed_%'])]\n",
    "df['completed_%'] = df['completed_%'].fillna(0)\n",
    "df['completed_%'] = df['completed_%'] * 100\n",
    "# df.index = pd.to_datetime(df.course_end)\n",
    "# df['year'] = df.index.year\n",
    "# df['quarter'] = df.index.quarter\n",
    "# df['course_end'] = pd.to_datetime(df['course_end']).dt.to_period('Q')\n",
    "\n",
    "# df['year'] = df['course_end'].dt.year\n",
    "# df['quarter'] = df['course_end'].dt.quarter\n",
    "\n",
    "# df['timestamp'] = df['course_end']\n",
    "# df['timestamp'] = pd.to_datetime(df['course_end'].str.replace(' ', '')) + pd.offsets.QuarterEnd(0)\n",
    "# print(df.head())"
   ]
  },
  {
   "cell_type": "code",
   "execution_count": 3,
   "metadata": {},
   "outputs": [],
   "source": [
    "def get_top_n(predictions, n=5):\n",
    "\n",
    "    top_n = defaultdict(list)\n",
    "    for uid, iid, true_r, est, _ in predictions:\n",
    "        top_n[uid].append((iid, round(float(est) * 10)/10))\n",
    "\n",
    "    for uid, user_ratings in top_n.items():\n",
    "        user_ratings.sort(key=lambda x: x[1], reverse=True)\n",
    "        top_n[uid] = user_ratings[:n]\n",
    "\n",
    "    return top_n"
   ]
  },
  {
   "cell_type": "code",
   "execution_count": 11,
   "metadata": {},
   "outputs": [
    {
     "name": "stdout",
     "output_type": "stream",
     "text": [
      "9.67561745505268\n",
      "{'n_epochs': 5, 'lr_all': 0.002, 'reg_all': 0.4}\n"
     ]
    }
   ],
   "source": [
    "class MyDataset(dataset.DatasetAutoFolds):\n",
    "\n",
    "    def __init__(self, df, reader):\n",
    "\n",
    "        self.raw_ratings = [(uid, iid, r, None) for (uid, iid, r) in\n",
    "                            zip(df['userid_DI'], df['course_id_DI'], df['completed_%'])]\n",
    "        self.reader=reader\n",
    "        \n",
    "reader = Reader(line_format='user item rating', rating_scale=(0, 100))\n",
    "\n",
    "data = MyDataset(df, reader)\n",
    "\n",
    "# algo = SVD()\n",
    "\n",
    "# cross_validate(algo, data, measures=['RMSE', 'MAE'], cv=3, verbose=True)\n",
    "\n",
    "param_grid = {'n_epochs': [5, 10], 'lr_all': [0.002, 0.005],\n",
    "              'reg_all': [0.4, 0.6]}\n",
    "gs = GridSearchCV(SVD, param_grid, measures=['rmse', 'mae'], cv=3)\n",
    "\n",
    "gs.fit(data)\n",
    "\n",
    "print(gs.best_score['rmse'])\n",
    "\n",
    "print(gs.best_params['rmse'])\n",
    "\n",
    "trainset = data.build_full_trainset()\n",
    "\n",
    "algo = gs.best_estimator['rmse']\n",
    "\n",
    "algo.fit(trainset)\n",
    "# test = [(832960083, 832380973, None)]\n",
    "testset = trainset.build_anti_testset()\n",
    "predictions = algo.test(testset)"
   ]
  },
  {
   "cell_type": "code",
   "execution_count": 12,
   "metadata": {},
   "outputs": [
    {
     "name": "stdout",
     "output_type": "stream",
     "text": [
      "[(832945515, 25.9), (832960908, 21.9), (832945145, 18.6), (832945525, 18.1), (832960998, 17.1)]\n"
     ]
    }
   ],
   "source": [
    "top_n = get_top_n(predictions, n=5)\n",
    "\n",
    "# Print the recommended items for each user\n",
    "# for uid, user_ratings in top_n.items():\n",
    "#     print(uid, [iid for (iid, _) in user_ratings])\n",
    "# print(top_n)\n",
    "print(top_n[832318743])"
   ]
  },
  {
   "cell_type": "code",
   "execution_count": 15,
   "metadata": {},
   "outputs": [],
   "source": [
    "binary_file = open('top_10.bin',mode='wb')\n",
    "pickled_top_ten = pickle.dump(top_n, binary_file, protocol=2)\n",
    "binary_file.close()"
   ]
  },
  {
   "cell_type": "code",
   "execution_count": null,
   "metadata": {
    "collapsed": true
   },
   "outputs": [],
   "source": []
  }
 ],
 "metadata": {
  "kernelspec": {
   "display_name": "Python 3",
   "language": "python",
   "name": "python3"
  },
  "language_info": {
   "codemirror_mode": {
    "name": "ipython",
    "version": 3
   },
   "file_extension": ".py",
   "mimetype": "text/x-python",
   "name": "python",
   "nbconvert_exporter": "python",
   "pygments_lexer": "ipython3",
   "version": "3.6.3"
  }
 },
 "nbformat": 4,
 "nbformat_minor": 1
}
